{
 "cells": [
  {
   "cell_type": "code",
   "execution_count": 63,
   "metadata": {},
   "outputs": [],
   "source": [
    "import numpy as np\n",
    "import matplotlib.pyplot as plt\n",
    "import pandas as pd\n",
    "import seaborn as sns\n",
    "\n",
    "import datetime\n",
    "\n",
    "from dsmanipulator import dsanalyzer as dsa\n",
    "from dsmanipulator import dsloader as dsl\n",
    "from dsmanipulator import dscreator as dsc\n",
    "from dsmanipulator.dataobjects import FileColumnNames\n"
   ]
  },
  {
   "cell_type": "code",
   "execution_count": 64,
   "metadata": {},
   "outputs": [
    {
     "data": {
      "text/html": [
       "<div>\n",
       "<style scoped>\n",
       "    .dataframe tbody tr th:only-of-type {\n",
       "        vertical-align: middle;\n",
       "    }\n",
       "\n",
       "    .dataframe tbody tr th {\n",
       "        vertical-align: top;\n",
       "    }\n",
       "\n",
       "    .dataframe thead th {\n",
       "        text-align: right;\n",
       "    }\n",
       "</style>\n",
       "<table border=\"1\" class=\"dataframe\">\n",
       "  <thead>\n",
       "    <tr style=\"text-align: right;\">\n",
       "      <th></th>\n",
       "      <th>TimeStamp</th>\n",
       "      <th>Relative Time</th>\n",
       "      <th>srcIP</th>\n",
       "      <th>dstIP</th>\n",
       "      <th>srcPort</th>\n",
       "      <th>dstPort</th>\n",
       "      <th>ipLen</th>\n",
       "      <th>len</th>\n",
       "      <th>fmt</th>\n",
       "      <th>uType</th>\n",
       "      <th>...</th>\n",
       "      <th>numix</th>\n",
       "      <th>cot</th>\n",
       "      <th>oa</th>\n",
       "      <th>addr</th>\n",
       "      <th>ioa</th>\n",
       "      <th>*Relative Day##</th>\n",
       "      <th>*Source station id##</th>\n",
       "      <th>*Destination station id##</th>\n",
       "      <th>*Pair id##</th>\n",
       "      <th>*Direction id##</th>\n",
       "    </tr>\n",
       "  </thead>\n",
       "  <tbody>\n",
       "    <tr>\n",
       "      <th>0</th>\n",
       "      <td>2022-05-09 17:15:49.910</td>\n",
       "      <td>0.000000</td>\n",
       "      <td>192.168.11.111</td>\n",
       "      <td>192.168.11.248</td>\n",
       "      <td>56693.0</td>\n",
       "      <td>2404.0</td>\n",
       "      <td>59.0</td>\n",
       "      <td>17.0</td>\n",
       "      <td>0x00000000</td>\n",
       "      <td>NaN</td>\n",
       "      <td>...</td>\n",
       "      <td>1.0</td>\n",
       "      <td>13.0</td>\n",
       "      <td>0.0</td>\n",
       "      <td>65535.0</td>\n",
       "      <td>65537</td>\n",
       "      <td>0</td>\n",
       "      <td>0</td>\n",
       "      <td>1</td>\n",
       "      <td>0</td>\n",
       "      <td>1</td>\n",
       "    </tr>\n",
       "    <tr>\n",
       "      <th>1</th>\n",
       "      <td>2022-05-09 17:15:49.940</td>\n",
       "      <td>0.029377</td>\n",
       "      <td>192.168.11.248</td>\n",
       "      <td>192.168.11.111</td>\n",
       "      <td>2404.0</td>\n",
       "      <td>56693.0</td>\n",
       "      <td>61.0</td>\n",
       "      <td>19.0</td>\n",
       "      <td>0x00000000</td>\n",
       "      <td>NaN</td>\n",
       "      <td>...</td>\n",
       "      <td>1.0</td>\n",
       "      <td>13.0</td>\n",
       "      <td>0.0</td>\n",
       "      <td>65535.0</td>\n",
       "      <td>65537</td>\n",
       "      <td>0</td>\n",
       "      <td>1</td>\n",
       "      <td>0</td>\n",
       "      <td>0</td>\n",
       "      <td>0</td>\n",
       "    </tr>\n",
       "    <tr>\n",
       "      <th>2</th>\n",
       "      <td>2022-05-09 17:15:49.940</td>\n",
       "      <td>0.029617</td>\n",
       "      <td>192.168.11.111</td>\n",
       "      <td>192.168.11.248</td>\n",
       "      <td>56693.0</td>\n",
       "      <td>2404.0</td>\n",
       "      <td>59.0</td>\n",
       "      <td>17.0</td>\n",
       "      <td>0x00000000</td>\n",
       "      <td>NaN</td>\n",
       "      <td>...</td>\n",
       "      <td>1.0</td>\n",
       "      <td>13.0</td>\n",
       "      <td>0.0</td>\n",
       "      <td>65535.0</td>\n",
       "      <td>65537</td>\n",
       "      <td>0</td>\n",
       "      <td>0</td>\n",
       "      <td>1</td>\n",
       "      <td>0</td>\n",
       "      <td>1</td>\n",
       "    </tr>\n",
       "    <tr>\n",
       "      <th>3</th>\n",
       "      <td>2022-05-09 17:15:49.940</td>\n",
       "      <td>0.031586</td>\n",
       "      <td>192.168.11.248</td>\n",
       "      <td>192.168.11.111</td>\n",
       "      <td>2404.0</td>\n",
       "      <td>56693.0</td>\n",
       "      <td>62.0</td>\n",
       "      <td>20.0</td>\n",
       "      <td>0x00000000</td>\n",
       "      <td>NaN</td>\n",
       "      <td>...</td>\n",
       "      <td>1.0</td>\n",
       "      <td>13.0</td>\n",
       "      <td>0.0</td>\n",
       "      <td>65535.0</td>\n",
       "      <td>65537</td>\n",
       "      <td>0</td>\n",
       "      <td>1</td>\n",
       "      <td>0</td>\n",
       "      <td>0</td>\n",
       "      <td>0</td>\n",
       "    </tr>\n",
       "    <tr>\n",
       "      <th>4</th>\n",
       "      <td>2022-05-09 17:15:49.970</td>\n",
       "      <td>0.062488</td>\n",
       "      <td>192.168.11.111</td>\n",
       "      <td>192.168.11.248</td>\n",
       "      <td>56693.0</td>\n",
       "      <td>2404.0</td>\n",
       "      <td>59.0</td>\n",
       "      <td>17.0</td>\n",
       "      <td>0x00000000</td>\n",
       "      <td>NaN</td>\n",
       "      <td>...</td>\n",
       "      <td>1.0</td>\n",
       "      <td>13.0</td>\n",
       "      <td>0.0</td>\n",
       "      <td>65535.0</td>\n",
       "      <td>65537</td>\n",
       "      <td>0</td>\n",
       "      <td>0</td>\n",
       "      <td>1</td>\n",
       "      <td>0</td>\n",
       "      <td>1</td>\n",
       "    </tr>\n",
       "    <tr>\n",
       "      <th>...</th>\n",
       "      <td>...</td>\n",
       "      <td>...</td>\n",
       "      <td>...</td>\n",
       "      <td>...</td>\n",
       "      <td>...</td>\n",
       "      <td>...</td>\n",
       "      <td>...</td>\n",
       "      <td>...</td>\n",
       "      <td>...</td>\n",
       "      <td>...</td>\n",
       "      <td>...</td>\n",
       "      <td>...</td>\n",
       "      <td>...</td>\n",
       "      <td>...</td>\n",
       "      <td>...</td>\n",
       "      <td>...</td>\n",
       "      <td>...</td>\n",
       "      <td>...</td>\n",
       "      <td>...</td>\n",
       "      <td>...</td>\n",
       "      <td>...</td>\n",
       "    </tr>\n",
       "    <tr>\n",
       "      <th>14592</th>\n",
       "      <td>2022-05-10 08:53:34.300</td>\n",
       "      <td>56264.388718</td>\n",
       "      <td>192.168.11.111</td>\n",
       "      <td>192.168.11.248</td>\n",
       "      <td>56693.0</td>\n",
       "      <td>2404.0</td>\n",
       "      <td>46.0</td>\n",
       "      <td>4.0</td>\n",
       "      <td>0x00000001</td>\n",
       "      <td>NaN</td>\n",
       "      <td>...</td>\n",
       "      <td>NaN</td>\n",
       "      <td>NaN</td>\n",
       "      <td>NaN</td>\n",
       "      <td>NaN</td>\n",
       "      <td>NaN</td>\n",
       "      <td>1</td>\n",
       "      <td>0</td>\n",
       "      <td>1</td>\n",
       "      <td>0</td>\n",
       "      <td>1</td>\n",
       "    </tr>\n",
       "    <tr>\n",
       "      <th>14593</th>\n",
       "      <td>2022-05-10 08:53:37.280</td>\n",
       "      <td>56267.374012</td>\n",
       "      <td>192.168.11.248</td>\n",
       "      <td>192.168.11.111</td>\n",
       "      <td>2404.0</td>\n",
       "      <td>56693.0</td>\n",
       "      <td>67.0</td>\n",
       "      <td>25.0</td>\n",
       "      <td>0x00000000</td>\n",
       "      <td>NaN</td>\n",
       "      <td>...</td>\n",
       "      <td>1.0</td>\n",
       "      <td>3.0</td>\n",
       "      <td>0.0</td>\n",
       "      <td>65535.0</td>\n",
       "      <td>2</td>\n",
       "      <td>1</td>\n",
       "      <td>1</td>\n",
       "      <td>0</td>\n",
       "      <td>0</td>\n",
       "      <td>0</td>\n",
       "    </tr>\n",
       "    <tr>\n",
       "      <th>14594</th>\n",
       "      <td>2022-05-10 08:53:41.280</td>\n",
       "      <td>56271.373875</td>\n",
       "      <td>192.168.11.248</td>\n",
       "      <td>192.168.11.111</td>\n",
       "      <td>2404.0</td>\n",
       "      <td>56693.0</td>\n",
       "      <td>67.0</td>\n",
       "      <td>25.0</td>\n",
       "      <td>0x00000000</td>\n",
       "      <td>NaN</td>\n",
       "      <td>...</td>\n",
       "      <td>1.0</td>\n",
       "      <td>3.0</td>\n",
       "      <td>0.0</td>\n",
       "      <td>65535.0</td>\n",
       "      <td>2</td>\n",
       "      <td>1</td>\n",
       "      <td>1</td>\n",
       "      <td>0</td>\n",
       "      <td>0</td>\n",
       "      <td>0</td>\n",
       "    </tr>\n",
       "    <tr>\n",
       "      <th>14595</th>\n",
       "      <td>2022-05-10 08:53:47.340</td>\n",
       "      <td>56277.434238</td>\n",
       "      <td>192.168.11.111</td>\n",
       "      <td>192.168.11.248</td>\n",
       "      <td>56693.0</td>\n",
       "      <td>2404.0</td>\n",
       "      <td>46.0</td>\n",
       "      <td>4.0</td>\n",
       "      <td>0x00000001</td>\n",
       "      <td>NaN</td>\n",
       "      <td>...</td>\n",
       "      <td>NaN</td>\n",
       "      <td>NaN</td>\n",
       "      <td>NaN</td>\n",
       "      <td>NaN</td>\n",
       "      <td>NaN</td>\n",
       "      <td>1</td>\n",
       "      <td>0</td>\n",
       "      <td>1</td>\n",
       "      <td>0</td>\n",
       "      <td>1</td>\n",
       "    </tr>\n",
       "    <tr>\n",
       "      <th>14596</th>\n",
       "      <td>2022-05-10 08:53:51.080</td>\n",
       "      <td>56281.173727</td>\n",
       "      <td>192.168.11.248</td>\n",
       "      <td>192.168.11.111</td>\n",
       "      <td>2404.0</td>\n",
       "      <td>56693.0</td>\n",
       "      <td>67.0</td>\n",
       "      <td>25.0</td>\n",
       "      <td>0x00000000</td>\n",
       "      <td>NaN</td>\n",
       "      <td>...</td>\n",
       "      <td>1.0</td>\n",
       "      <td>3.0</td>\n",
       "      <td>0.0</td>\n",
       "      <td>65535.0</td>\n",
       "      <td>2</td>\n",
       "      <td>1</td>\n",
       "      <td>1</td>\n",
       "      <td>0</td>\n",
       "      <td>0</td>\n",
       "      <td>0</td>\n",
       "    </tr>\n",
       "  </tbody>\n",
       "</table>\n",
       "<p>14597 rows × 21 columns</p>\n",
       "</div>"
      ],
      "text/plain": [
       "                    TimeStamp  Relative Time           srcIP           dstIP  \\\n",
       "0     2022-05-09 17:15:49.910       0.000000  192.168.11.111  192.168.11.248   \n",
       "1     2022-05-09 17:15:49.940       0.029377  192.168.11.248  192.168.11.111   \n",
       "2     2022-05-09 17:15:49.940       0.029617  192.168.11.111  192.168.11.248   \n",
       "3     2022-05-09 17:15:49.940       0.031586  192.168.11.248  192.168.11.111   \n",
       "4     2022-05-09 17:15:49.970       0.062488  192.168.11.111  192.168.11.248   \n",
       "...                       ...            ...             ...             ...   \n",
       "14592 2022-05-10 08:53:34.300   56264.388718  192.168.11.111  192.168.11.248   \n",
       "14593 2022-05-10 08:53:37.280   56267.374012  192.168.11.248  192.168.11.111   \n",
       "14594 2022-05-10 08:53:41.280   56271.373875  192.168.11.248  192.168.11.111   \n",
       "14595 2022-05-10 08:53:47.340   56277.434238  192.168.11.111  192.168.11.248   \n",
       "14596 2022-05-10 08:53:51.080   56281.173727  192.168.11.248  192.168.11.111   \n",
       "\n",
       "       srcPort  dstPort  ipLen   len         fmt uType  ...  numix   cot   oa  \\\n",
       "0      56693.0   2404.0   59.0  17.0  0x00000000   NaN  ...    1.0  13.0  0.0   \n",
       "1       2404.0  56693.0   61.0  19.0  0x00000000   NaN  ...    1.0  13.0  0.0   \n",
       "2      56693.0   2404.0   59.0  17.0  0x00000000   NaN  ...    1.0  13.0  0.0   \n",
       "3       2404.0  56693.0   62.0  20.0  0x00000000   NaN  ...    1.0  13.0  0.0   \n",
       "4      56693.0   2404.0   59.0  17.0  0x00000000   NaN  ...    1.0  13.0  0.0   \n",
       "...        ...      ...    ...   ...         ...   ...  ...    ...   ...  ...   \n",
       "14592  56693.0   2404.0   46.0   4.0  0x00000001   NaN  ...    NaN   NaN  NaN   \n",
       "14593   2404.0  56693.0   67.0  25.0  0x00000000   NaN  ...    1.0   3.0  0.0   \n",
       "14594   2404.0  56693.0   67.0  25.0  0x00000000   NaN  ...    1.0   3.0  0.0   \n",
       "14595  56693.0   2404.0   46.0   4.0  0x00000001   NaN  ...    NaN   NaN  NaN   \n",
       "14596   2404.0  56693.0   67.0  25.0  0x00000000   NaN  ...    1.0   3.0  0.0   \n",
       "\n",
       "          addr    ioa *Relative Day##  *Source station id##  \\\n",
       "0      65535.0  65537               0                     0   \n",
       "1      65535.0  65537               0                     1   \n",
       "2      65535.0  65537               0                     0   \n",
       "3      65535.0  65537               0                     1   \n",
       "4      65535.0  65537               0                     0   \n",
       "...        ...    ...             ...                   ...   \n",
       "14592      NaN    NaN               1                     0   \n",
       "14593  65535.0      2               1                     1   \n",
       "14594  65535.0      2               1                     1   \n",
       "14595      NaN    NaN               1                     0   \n",
       "14596  65535.0      2               1                     1   \n",
       "\n",
       "       *Destination station id##  *Pair id##  *Direction id##  \n",
       "0                              1           0                1  \n",
       "1                              0           0                0  \n",
       "2                              1           0                1  \n",
       "3                              0           0                0  \n",
       "4                              1           0                1  \n",
       "...                          ...         ...              ...  \n",
       "14592                          1           0                1  \n",
       "14593                          0           0                0  \n",
       "14594                          0           0                0  \n",
       "14595                          1           0                1  \n",
       "14596                          0           0                0  \n",
       "\n",
       "[14597 rows x 21 columns]"
      ]
     },
     "execution_count": 64,
     "metadata": {},
     "output_type": "execute_result"
    }
   ],
   "source": [
    "fcn = FileColumnNames(\"TimeStamp\", \"Relative Time\", \"srcIP\", \"dstIP\", \"srcPort\", \"dstPort\")\n",
    "\n",
    "filename = \"../data/mega104-14-12-18-ioa.csv\"\n",
    "\n",
    "dialect = dsl.detect_dialect(filename)\n",
    "df = dsl.load_data(\n",
    "    filename,\n",
    "    data_types={\n",
    "        \"TimeStamp\": \"datetime\",\n",
    "        \"Relative Time\": \"float\",\n",
    "        \"srcIP\": \"object\",\n",
    "        \"dstIP\": \"object\",\n",
    "        \"srcPort\": \"float\",\n",
    "        \"dstPort\": \"float\",\n",
    "        \"ipLen\": \"float\",\n",
    "        \"len\": \"float\",\n",
    "        \"fmt\": \"object\",\n",
    "        \"uType\": \"object\",\n",
    "        \"asduType\": \"float\",\n",
    "        \"numix\": \"float\",\n",
    "        \"cot\": \"float\",\n",
    "        \"oa\": \"float\",\n",
    "        \"addr\": \"float\",\n",
    "        \"ioa\": \"object\",\n",
    "    },\n",
    "    dialect=dialect,\n",
    "    row_limit=None,\n",
    ")\n",
    "\n",
    "# print(df.columns)\n",
    "\n",
    "dsc.add_relative_days(df, fcn, inplace=True)\n",
    "station_ids = dsc.create_station_ids(df, fcn)\n",
    "dsc.add_station_id(df, fcn, station_ids, inplace=True)\n",
    "pair_ids = dsc.create_pair_ids(df, fcn)\n",
    "dsc.add_pair_id(df, fcn, pair_ids, inplace=True)\n",
    "direction_ids = dsc.create_direction_ids(df, fcn)\n",
    "dsc.add_direction_id(df, fcn, direction_ids, inplace=True)\n"
   ]
  },
  {
   "cell_type": "code",
   "execution_count": 62,
   "metadata": {},
   "outputs": [
    {
     "ename": "ModuleNotFoundError",
     "evalue": "No module named 'dsmanipulator.utils'",
     "output_type": "error",
     "traceback": [
      "\u001b[0;31m---------------------------------------------------------------------------\u001b[0m",
      "\u001b[0;31mModuleNotFoundError\u001b[0m                       Traceback (most recent call last)",
      "\u001b[1;32m/home/ankimme/fit/ibt/src/d1.ipynb Cell 3'\u001b[0m in \u001b[0;36m<module>\u001b[0;34m\u001b[0m\n\u001b[1;32m      <a href='vscode-notebook-cell:/home/ankimme/fit/ibt/src/d1.ipynb#ch0000002?line=4'>5</a>\u001b[0m \u001b[39mimport\u001b[39;00m \u001b[39mseaborn\u001b[39;00m \u001b[39mas\u001b[39;00m \u001b[39msns\u001b[39;00m\n\u001b[1;32m      <a href='vscode-notebook-cell:/home/ankimme/fit/ibt/src/d1.ipynb#ch0000002?line=5'>6</a>\u001b[0m \u001b[39mfrom\u001b[39;00m \u001b[39mdsmanipulator\u001b[39;00m \u001b[39mimport\u001b[39;00m dscreator \u001b[39mas\u001b[39;00m dsc\n\u001b[0;32m----> <a href='vscode-notebook-cell:/home/ankimme/fit/ibt/src/d1.ipynb#ch0000002?line=6'>7</a>\u001b[0m \u001b[39mfrom\u001b[39;00m \u001b[39mdsmanipulator\u001b[39;00m\u001b[39m.\u001b[39;00m\u001b[39mutils\u001b[39;00m \u001b[39mimport\u001b[39;00m Direction, FileColumnNames, Station\n\u001b[1;32m      <a href='vscode-notebook-cell:/home/ankimme/fit/ibt/src/d1.ipynb#ch0000002?line=7'>8</a>\u001b[0m \u001b[39mfrom\u001b[39;00m \u001b[39mbidict\u001b[39;00m \u001b[39mimport\u001b[39;00m bidict\n\u001b[1;32m     <a href='vscode-notebook-cell:/home/ankimme/fit/ibt/src/d1.ipynb#ch0000002?line=10'>11</a>\u001b[0m \u001b[39mdef\u001b[39;00m \u001b[39mplot_pair_flow\u001b[39m(\n\u001b[1;32m     <a href='vscode-notebook-cell:/home/ankimme/fit/ibt/src/d1.ipynb#ch0000002?line=11'>12</a>\u001b[0m     df: pd\u001b[39m.\u001b[39mDataFrame,\n\u001b[1;32m     <a href='vscode-notebook-cell:/home/ankimme/fit/ibt/src/d1.ipynb#ch0000002?line=12'>13</a>\u001b[0m     fcn: FileColumnNames,\n\u001b[0;32m   (...)\u001b[0m\n\u001b[1;32m     <a href='vscode-notebook-cell:/home/ankimme/fit/ibt/src/d1.ipynb#ch0000002?line=17'>18</a>\u001b[0m     resample_rate: pd\u001b[39m.\u001b[39mTimedelta,\n\u001b[1;32m     <a href='vscode-notebook-cell:/home/ankimme/fit/ibt/src/d1.ipynb#ch0000002?line=18'>19</a>\u001b[0m ) \u001b[39m-\u001b[39m\u001b[39m>\u001b[39m \u001b[39mNone\u001b[39;00m:\n",
      "\u001b[0;31mModuleNotFoundError\u001b[0m: No module named 'dsmanipulator.utils'"
     ]
    }
   ],
   "source": [
    "from matplotlib.dates import DateFormatter, AutoDateLocator\n",
    "from matplotlib.axes import Axes\n",
    "import numpy as np\n",
    "import pandas as pd\n",
    "import seaborn as sns\n",
    "from dsmanipulator import dscreator as dsc\n",
    "from dsmanipulator.utils import Direction, FileColumnNames, Station\n",
    "from bidict import bidict\n",
    "\n",
    "\n",
    "def plot_pair_flow(\n",
    "    df: pd.DataFrame,\n",
    "    fcn: FileColumnNames,\n",
    "    axes: Axes,\n",
    "    pair_id: int,\n",
    "    station_ids: bidict[int, Station],\n",
    "    direction_ids: bidict[int, Direction],\n",
    "    resample_rate: pd.Timedelta,\n",
    ") -> None:\n",
    "    assert all(col in df.columns for col in [fcn.timestamp, fcn.pair_id, fcn.direction_id])\n",
    "\n",
    "    # filter original dataframe and expand values\n",
    "    # tmpdf = df\n",
    "    tmpdf = df[df[fcn.pair_id] == pair_id]\n",
    "    tmpdf = dsc.expand_values_to_columns(tmpdf, fcn.direction_id, drop_column=True)\n",
    "\n",
    "    # names of expanded columns\n",
    "    expanded_cols: list[str] = list(filter(lambda x: fcn.direction_id in x, tmpdf.columns))\n",
    "\n",
    "    # filter only timestamp and expanded columns\n",
    "    tmpdf = tmpdf[[fcn.timestamp] + expanded_cols]\n",
    "\n",
    "    # rename expanded cols so that the legend shows relevant information\n",
    "    renamed_cols: dict[str, str] = {}\n",
    "    for col in expanded_cols:\n",
    "        # TODO parse error\n",
    "        direction_id = int(col.rsplit(\":\", 1)[1])\n",
    "        src_station = station_ids[direction_ids[direction_id].src]\n",
    "        dst_station = station_ids[direction_ids[direction_id].dst]\n",
    "        renamed_cols[col] = f\"{src_station} -> {dst_station}\"\n",
    "\n",
    "    tmpdf = tmpdf.rename(columns=renamed_cols)\n",
    "\n",
    "    # convert index to datetimeindex for resampling\n",
    "    tmpdf = dsc.convert_to_timeseries(tmpdf, fcn)\n",
    "    tmpdf = tmpdf.resample(resample_rate).sum()\n",
    "\n",
    "    # create column with sum\n",
    "    tmpdf.insert(0, \"Sum\", 0)\n",
    "    tmpdf[\"Sum\"] = tmpdf.sum(axis=1)\n",
    "\n",
    "    axes.set_xlabel(\" \")\n",
    "    # axes.set_ylabel(\"Packet count\")\n",
    "    # axes.set_title(\"Packet count in time\")\n",
    "    axes.grid(True)\n",
    "\n",
    "    axes.xaxis.set_major_locator(AutoDateLocator())\n",
    "    axes.xaxis.set_major_formatter(DateFormatter(\"%H:%M\"))\n",
    "\n",
    "    # plt.xlim([min(tmpdf.index), max(tmpdf.index)])\n",
    "    # print(min(k))\n",
    "    # print(max(k))\n",
    "    # k = pd.DatetimeIndex(df[fcn.timestamp])\n",
    "    # axes.set_xlim([min(k), max(k)])\n",
    "    # axes.legend([], [], frameon=False)\n",
    "    # print(\"OG\")\n",
    "    # print(tmpdf)\n",
    "    # # tmpdf = tmpdf.loc[:'Sum']\n",
    "    # print(\"SUMMED\")\n",
    "    # print(tmpdf)\n",
    "    # c = tmpdf\n",
    "\n",
    "\n",
    "\n",
    "    # drop non sum columns\n",
    "    dropcols = [x for x in tmpdf.columns if x != 'Sum']\n",
    "    tmpdf = tmpdf.drop(dropcols, axis=1)\n",
    "\n",
    "\n",
    "\n",
    "    sns.lineplot(data=tmpdf, palette=\"tab10\", linewidth=3, ax=axes)\n",
    "\n",
    "    # print(tmpdf)\n",
    "    # axes.xaxis.set_major_locator(AutoDateLocator())\n",
    "    # axes.xaxis.set_major_formatter(DateFormatter(\"%H:%M\"))\n",
    "\n",
    "    # plt.xlim([min(x), max(x)])\n",
    "    # plt.ylim([0, max(y)])"
   ]
  },
  {
   "cell_type": "code",
   "execution_count": null,
   "metadata": {},
   "outputs": [
    {
     "data": {
      "text/plain": [
       "Timestamp('2022-05-02 18:17:00')"
      ]
     },
     "execution_count": 4,
     "metadata": {},
     "output_type": "execute_result"
    }
   ],
   "source": [
    "from datetime import datetime\n",
    "# df[fcn.timestamp][0]\n",
    "\n",
    "# https://www.epochconverter.com/\n",
    "\n",
    "\n",
    "start = pd.Timestamp('2022-05-02 18:00:00')\n",
    "end = pd.Timestamp('2022-05-02 19:00:00')\n",
    "\n",
    "start_drop = pd.Timestamp('2022-05-02 18:15:00')\n",
    "end_drop = pd.Timestamp('2022-05-02 18:17:00')\n",
    "end_drop\n",
    "\n"
   ]
  },
  {
   "cell_type": "code",
   "execution_count": null,
   "metadata": {},
   "outputs": [
    {
     "data": {
      "image/png": "[encoded data removed]",
      "text/plain": [
       "<Figure size 576x216 with 1 Axes>"
      ]
     },
     "metadata": {
      "needs_background": "light"
     },
     "output_type": "display_data"
    }
   ],
   "source": [
    "from datetime import timedelta\n",
    "\n",
    "\n",
    "fig, ax = plt.subplots(1,1,figsize=(8, 3))\n",
    "fig.set_tight_layout(True)\n",
    "\n",
    "\n",
    "ax.set_xlim([start, end])\n",
    "ax.set_ylim([0,6])\n",
    "# ax.set_xlim([start, end])\n",
    "# ax.set_ylim([0,30])\n",
    "# ax.set_xlim([start, end])\n",
    "# ax.set_ylim([0,300])\n",
    "\n",
    "dropped_df = df[(df[fcn.timestamp] > end_drop) | (df[fcn.timestamp] < start_drop)]\n",
    "\n",
    "\n",
    "# fig.axes.set_xlim([, ])\n",
    "\n",
    "plot_pair_flow(\n",
    "    dropped_df, fcn, ax, 0, station_ids, direction_ids, timedelta(seconds=5)\n",
    ")\n",
    "\n",
    "# plot_pair_flow(\n",
    "#     dropped_df, fcn, ax, 0, station_ids, direction_ids, timedelta(minutes=1)\n",
    "# )\n",
    "\n",
    "# plot_pair_flow(\n",
    "#     dropped_df, fcn, ax, 0, station_ids, direction_ids, timedelta(minutes=10)\n",
    "# )\n",
    "\n",
    "ax.legend([], [], frameon=False)\n",
    "# axs[1].legend([], [], frameon=False)\n",
    "# axs[2].legend([], [], frameon=False)\n",
    "\n",
    "ax.set_xlabel(\"Čas\")\n",
    "ax.set_ylabel(\"Počet paketů\")\n",
    "\n",
    "# axs[0].set_title(\"Časové okno: 5s\")\n",
    "# axs[1].set_title(\"Časové okno: 60s\")\n",
    "# axs[2].set_title(\"Časové okno: 600s\")\n",
    "\n",
    "# fig.supxlabel(\"Čas\")\n",
    "# fig.supylabel(\"Počet paketů\")\n",
    "\n",
    "# axs[1].plot()\n",
    "# plt.plot()\n",
    "\n",
    "plt.savefig('pgf/time_series_5s.pgf')\n"
   ]
  },
  {
   "cell_type": "code",
   "execution_count": null,
   "metadata": {},
   "outputs": [
    {
     "data": {
      "text/plain": [
       "0.0    9657\n",
       "Name: oa, dtype: int64"
      ]
     },
     "execution_count": 6,
     "metadata": {},
     "output_type": "execute_result"
    }
   ],
   "source": [
    "df[\"oa\"].value_counts()\n"
   ]
  },
  {
   "cell_type": "code",
   "execution_count": null,
   "metadata": {},
   "outputs": [
    {
     "data": {
      "image/png": "[encoded data removed]",
      "text/plain": [
       "<Figure size 432x180 with 2 Axes>"
      ]
     },
     "metadata": {
      "needs_background": "light"
     },
     "output_type": "display_data"
    }
   ],
   "source": [
    "# penguins = sns.load_dataset(\"penguins\")\n",
    "# sns.histplot(data=penguins, x=\"flipper_length_mm\")\n",
    "# planets = sns.load_dataset(\"planets\")\n",
    "# sns.histplot(data=planets, x=\"distance\", log_scale=True)\n",
    "fig, ax = plt.subplots(1,2, figsize=(6, 2.5), constrained_layout = True)\n",
    "\n",
    "# fig.tight_layout(w_pad=2)\n",
    "\n",
    "tips = sns.load_dataset(\"tips\")\n",
    "# sns.histplot(data=tips, x=\"size\", discrete=True, ax=ax[0])\n",
    "sns.lineplot(data=tips,  ax=ax[0])\n",
    "sns.histplot(data=tips, x=\"size\", stat=\"percent\", discrete=True, ax=ax[1])\n",
    "\n",
    "ax[0].set_xlabel(\"Hodnota\")\n",
    "ax[0].set_ylabel(\"Absolutní četnost [n]\")\n",
    "\n",
    "ax[1].set_xlabel(\"Hodnota\")\n",
    "ax[1].set_ylabel(\"Relativní četnost [%]\")\n",
    "\n",
    "\n",
    "plt.savefig(\"pgf/histogram.pgf\")\n"
   ]
  },
  {
   "cell_type": "code",
   "execution_count": null,
   "metadata": {},
   "outputs": [],
   "source": [
    "N = 500\n",
    "x = np.random.normal(loc=3, scale=5, size=int(N/2))"
   ]
  },
  {
   "cell_type": "code",
   "execution_count": null,
   "metadata": {},
   "outputs": [
    {
     "name": "stderr",
     "output_type": "stream",
     "text": [
      "/home/ankimme/fit/ibt/env/lib/python3.10/site-packages/seaborn/distributions.py:2619: FutureWarning: `distplot` is a deprecated function and will be removed in a future version. Please adapt your code to use either `displot` (a figure-level function with similar flexibility) or `histplot` (an axes-level function for histograms).\n",
      "  warnings.warn(msg, FutureWarning)\n"
     ]
    },
    {
     "data": {
      "text/plain": [
       "[]"
      ]
     },
     "execution_count": 58,
     "metadata": {},
     "output_type": "execute_result"
    },
    {
     "data": {
      "image/png": "[encoded data removed]",
      "text/plain": [
       "<Figure size 360x288 with 1 Axes>"
      ]
     },
     "metadata": {
      "needs_background": "light"
     },
     "output_type": "display_data"
    }
   ],
   "source": [
    "# penguins = sns.load_dataset(\"penguins\")\n",
    "# sns.histplot(data=penguins, x=\"flipper_length_mm\")\n",
    "# planets = sns.load_dataset(\"planets\")\n",
    "# sns.histplot(data=planets, x=\"distance\", log_scale=True)\n",
    "fig, ax = plt.subplots(1,1, figsize=(5, 4), constrained_layout = True)\n",
    "\n",
    "# x = np.random.normal(loc=-2, scale=2, size=int(N/2))\n",
    "# fig.tight_layout(w_pad=2)\n",
    "\n",
    "# tips = sns.load_dataset(\"tips\")\n",
    "# # sns.histplot(data=tips, x=\"size\", discrete=True, ax=ax[0])\n",
    "# sns.lineplot(data=tips,  ax=ax[0])\n",
    "# sns.histplot(data=tips, x=\"size\", stat=\"percent\", discrete=True, ax=ax[1])\n",
    "\n",
    "\n",
    "sns.distplot(x, ax=ax)\n",
    "ax.set_xlabel(\"Hodnota\")\n",
    "ax.set_ylabel(\"Relativní četnost [%]\")\n",
    "plt.savefig(\"pgf/distplot.pgf\")\n",
    "\n",
    "# sns.histplot(x, ax=ax)\n",
    "# ax.set_xlabel(\"Hodnota\")\n",
    "# ax.set_ylabel(\"Absolutní četnost [n]\")\n",
    "# plt.savefig(\"pgf/histplot.pgf\")\n",
    "\n",
    "plt.plot()"
   ]
  },
  {
   "cell_type": "code",
   "execution_count": null,
   "metadata": {},
   "outputs": [
    {
     "data": {
      "image/png": "[encoded data removed]",
      "text/plain": [
       "<Figure size 432x288 with 2 Axes>"
      ]
     },
     "metadata": {},
     "output_type": "display_data"
    }
   ],
   "source": [
    "labels = ['A', 'B', 'C']\n",
    "\n",
    "\n",
    "fig, axes = plt.subplots(1, 2, constrained_layout = True)\n",
    "\n",
    "#create pie chart\n",
    "# plt.pie(data, labels = labels, autopct='%.0f%%')\n",
    "# plt.show()\n",
    "\n",
    "axes[0].pie([50, 30, 20], labels = labels, autopct='%.0f%%')\n",
    "axes[1].pie([51, 31, 18], labels = labels, autopct='%.0f%%')\n",
    "\n",
    "axes[0].set_xlabel(\"2021\")\n",
    "axes[1].set_xlabel(\"2022\")\n",
    "\n",
    "\n",
    "plt.savefig(\"pgf/pies.pgf\")"
   ]
  },
  {
   "cell_type": "code",
   "execution_count": null,
   "metadata": {},
   "outputs": [
    {
     "name": "stderr",
     "output_type": "stream",
     "text": [
      "/home/ankimme/fit/ibt/env/lib/python3.10/site-packages/seaborn/distributions.py:2619: FutureWarning: `distplot` is a deprecated function and will be removed in a future version. Please adapt your code to use either `displot` (a figure-level function with similar flexibility) or `histplot` (an axes-level function for histograms).\n",
      "  warnings.warn(msg, FutureWarning)\n"
     ]
    },
    {
     "data": {
      "text/plain": [
       "[]"
      ]
     },
     "execution_count": 40,
     "metadata": {},
     "output_type": "execute_result"
    },
    {
     "data": {
      "image/png": "[encoded data removed]",
      "text/plain": [
       "<Figure size 648x216 with 1 Axes>"
      ]
     },
     "metadata": {
      "needs_background": "light"
     },
     "output_type": "display_data"
    }
   ],
   "source": [
    "def plot_comparison(x):\n",
    "    fig, ax = plt.subplots(3, 1,figsize=(6, 5),  sharex=True, constrained_layout = True)\n",
    "    sns.distplot(x, ax=ax[0])\n",
    "    ax[0].set_title('Soubor dat a odhad rozložení hustoty pravděpodobnosti')\n",
    "    ax[0].set_ylabel(\"\")\n",
    "    sns.boxplot(x, ax=ax[1])\n",
    "    ax[1].set_title('Krabicový graf')\n",
    "    sns.violinplot(x, ax=ax[2])\n",
    "    ax[2].set_title('Houslový graf')\n",
    "    # fig.suptitle(title, fontsize=16)\n",
    "    plt.savefig(\"pgf/box_violin.pgf\")\n",
    "\n",
    "    plt.show()\n",
    "\n",
    "import matplotlib\n",
    "matplotlib.rcParams.update({'font.size': 14})\n",
    "\n",
    "N = 10000\n",
    "# sample_gaussian = np.random.normal(size=N)\n",
    "# plot_comparison(sample_gaussian, 'Standard Normal Distribution')\n",
    "\n",
    "x = np.concatenate([np.random.normal(loc=-2, scale=2, size=int(N/2)),\n",
    "                                 np.random.normal(loc=3, scale=1, size=int(N/2))])\n",
    "# plot_comparison(sample_bimodal, 'Mixture of Gaussians - bimodal')\n",
    "\n",
    "fig, ax = plt.subplots(1,1,figsize=(9, 3),constrained_layout = True)\n",
    "\n",
    "sns.distplot(x, ax=ax)\n",
    "plt.ylabel(\"\")\n",
    "plt.savefig('pgf/violin_density.pgf')\n",
    "\n",
    "# sns.boxplot(x, ax=ax)\n",
    "# plt.savefig('pgf/violin_boxplot.pgf')\n",
    "\n",
    "\n",
    "# sns.violinplot(x, ax=ax)\n",
    "# plt.savefig('pgf/violin_violin.pgf')\n",
    "\n",
    "\n",
    "plt.plot()"
   ]
  },
  {
   "cell_type": "code",
   "execution_count": null,
   "metadata": {},
   "outputs": [
    {
     "data": {
      "text/plain": [
       "{'TimeStamp': 'object',\n",
       " 'Relative Time': dtype('float64'),\n",
       " 'srcIP': dtype('O'),\n",
       " 'dstIP': dtype('O'),\n",
       " 'srcPort': dtype('float64'),\n",
       " 'dstPort': dtype('float64'),\n",
       " 'ipLen': dtype('float64'),\n",
       " 'len': dtype('float64'),\n",
       " 'fmt': dtype('O'),\n",
       " 'uType': dtype('O'),\n",
       " 'asduType': dtype('float64'),\n",
       " 'numix': dtype('float64'),\n",
       " 'cot': dtype('float64'),\n",
       " 'oa': dtype('float64'),\n",
       " 'addr': dtype('float64'),\n",
       " 'ioa': dtype('O'),\n",
       " '*Relative Day##': 'float',\n",
       " '*Source station id##': 'float',\n",
       " '*Destination station id##': 'float',\n",
       " '*Pair id##': 'float',\n",
       " '*Direction id##': 'float'}"
      ]
     },
     "execution_count": 10,
     "metadata": {},
     "output_type": "execute_result"
    }
   ],
   "source": [
    "detected_cols = df.dtypes.to_dict()\n",
    "\n",
    "detected_cols = {k:('float' if v == 'int' else v) for k,v in detected_cols.items()}\n",
    "detected_cols = {k:(v if v in ['datetime', 'float', 'object'] else \"object\") for k,v in detected_cols.items()}\n",
    "# {k:(v if True else 4) for k,v in detected_cols.items()}\n",
    "detected_cols"
   ]
  },
  {
   "cell_type": "code",
   "execution_count": null,
   "metadata": {},
   "outputs": [
    {
     "data": {
      "text/plain": [
       "bidict({0: Station(ip='192.168.11.111', port=56693.0), 1: Station(ip='192.168.11.248', port=2404.0)})"
      ]
     },
     "execution_count": 11,
     "metadata": {},
     "output_type": "execute_result"
    }
   ],
   "source": [
    "station_ids"
   ]
  },
  {
   "cell_type": "code",
   "execution_count": 73,
   "metadata": {},
   "outputs": [
    {
     "data": {
      "text/plain": [
       "True"
      ]
     },
     "execution_count": 73,
     "metadata": {},
     "output_type": "execute_result"
    }
   ],
   "source": [
    "df.dtypes['srcIP'] == np.dtype('object')"
   ]
  },
  {
   "cell_type": "markdown",
   "metadata": {},
   "source": [
    "##### Unique asdu types in all datasets"
   ]
  },
  {
   "cell_type": "code",
   "execution_count": null,
   "metadata": {},
   "outputs": [
    {
     "data": {
      "text/plain": [
       "array([ 31.,  36., 120., 121., 122., 123., 124., 125.])"
      ]
     },
     "execution_count": 12,
     "metadata": {},
     "output_type": "execute_result"
    }
   ],
   "source": [
    "a = np.array([122., 120., 121., 125., 123., 124.,  36.])\n",
    "b=np.array([31., 36.])\n",
    "c=np.array([122., 120., 121., 125., 123., 124.,  36.])\n",
    "d=np.array([122., 120., 121., 125., 123., 124.,  36.])\n",
    "np.unique(np.concatenate([a,b,c,d]))"
   ]
  }
 ],
 "metadata": {
  "interpreter": {
   "hash": "cdb7085aef3a221a576ad585ce24e41c4d3ea3053184f584d3d4e28d05eb3df3"
  },
  "kernelspec": {
   "display_name": "Python 3.10.4 ('env': venv)",
   "language": "python",
   "name": "python3"
  },
  "language_info": {
   "codemirror_mode": {
    "name": "ipython",
    "version": 3
   },
   "file_extension": ".py",
   "mimetype": "text/x-python",
   "name": "python",
   "nbconvert_exporter": "python",
   "pygments_lexer": "ipython3",
   "version": "3.10.4"
  },
  "orig_nbformat": 4
 },
 "nbformat": 4,
 "nbformat_minor": 2
}
