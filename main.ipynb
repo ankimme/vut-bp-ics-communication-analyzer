{
 "cells": [
  {
   "cell_type": "code",
   "execution_count": 7,
   "metadata": {},
   "outputs": [],
   "source": [
    "import numpy as np\n",
    "import matplotlib.pyplot as plt\n",
    "import pandas as pd\n",
    "from matplotlib import style"
   ]
  },
  {
   "cell_type": "code",
   "execution_count": 8,
   "metadata": {},
   "outputs": [],
   "source": [
    "df = pd.read_csv(\"data/mega104-14-12-18-ioa.csv\", sep=\";\")\n",
    "# df = pd.read_csv(\"data/mega104-17-12-18-ioa.csv\", sep=\";\")"
   ]
  },
  {
   "cell_type": "code",
   "execution_count": 9,
   "metadata": {},
   "outputs": [
    {
     "name": "stdout",
     "output_type": "stream",
     "text": [
      "<class 'pandas.core.frame.DataFrame'>\n",
      "RangeIndex: 14597 entries, 0 to 14596\n",
      "Data columns (total 16 columns):\n",
      " #   Column         Non-Null Count  Dtype  \n",
      "---  ------         --------------  -----  \n",
      " 0   TimeStamp      14597 non-null  object \n",
      " 1   Relative Time  14597 non-null  float64\n",
      " 2   srcIP          14597 non-null  object \n",
      " 3   dstIP          14597 non-null  object \n",
      " 4   srcPort        14597 non-null  int64  \n",
      " 5   dstPort        14597 non-null  int64  \n",
      " 6   ipLen          14597 non-null  int64  \n",
      " 7   len            14597 non-null  int64  \n",
      " 8   fmt            14597 non-null  object \n",
      " 9   uType          1156 non-null   object \n",
      " 10  asduType       9657 non-null   float64\n",
      " 11  numix          9657 non-null   float64\n",
      " 12  cot            9657 non-null   float64\n",
      " 13  oa             9657 non-null   float64\n",
      " 14  addr           9657 non-null   float64\n",
      " 15  ioa            9657 non-null   object \n",
      "dtypes: float64(6), int64(4), object(6)\n",
      "memory usage: 1.8+ MB\n"
     ]
    }
   ],
   "source": [
    "df.info()"
   ]
  },
  {
   "cell_type": "code",
   "execution_count": 10,
   "metadata": {},
   "outputs": [],
   "source": [
    "def find_communication_pairs(df: pd.DataFrame) -> dict:\n",
    "    d = dict()\n",
    "    i = 1\n",
    "    for (x,y) in zip(df['srcIP'], df['dstIP']):\n",
    "        if (x,y) not in d:\n",
    "            d[(x,y)] = i\n",
    "            i = i + 1\n",
    "    return d"
   ]
  },
  {
   "cell_type": "code",
   "execution_count": 11,
   "metadata": {},
   "outputs": [],
   "source": [
    "communication_pairs = find_communication_pairs(df)\n",
    "# inv = {v: k for k, v in communication_pairs.items()}\n",
    "\n",
    "df['commId'] = df.apply(lambda row: communication_pairs[(row['srcIP'], row['dstIP'])], axis=1)"
   ]
  },
  {
   "cell_type": "code",
   "execution_count": 12,
   "metadata": {},
   "outputs": [
    {
     "data": {
      "image/png": "[encoded data removed]",
      "text/plain": [
       "<Figure size 432x288 with 1 Axes>"
      ]
     },
     "metadata": {
      "needs_background": "light"
     },
     "output_type": "display_data"
    },
    {
     "name": "stdout",
     "output_type": "stream",
     "text": [
      "1: 192.168.11.111 -> 192.168.11.248\n",
      "2: 192.168.11.248 -> 192.168.11.111\n"
     ]
    }
   ],
   "source": [
    "# comm_ids = list(f\"{x}\\n{y}\" for x,y in communication_pairs.keys())\n",
    "comm_ids = list(str(x) for x in communication_pairs.values())\n",
    "comm_count = list(np.count_nonzero(df['commId'] == x) for x in communication_pairs.values())\n",
    "# labels = communication_pairs.values()\n",
    "plt.bar(x = comm_ids, height = comm_count)\n",
    "for i in range(len(comm_ids)):\n",
    "        plt.text(i, comm_count[i] + 500, comm_count[i], ha = 'center', color='white', bbox = dict(facecolor = 'red', alpha =.8))\n",
    "plt.show()\n",
    "for k, v in communication_pairs.items():\n",
    "    print(f\"{v}: {k[0]} -> {k[1]}\")"
   ]
  }
 ],
 "metadata": {
  "interpreter": {
   "hash": "cfb613f3ae4fd2237ed3e9cc52c455b0f15688c9a298358058dde9e330e16df1"
  },
  "kernelspec": {
   "display_name": "Python 3.8.10 64-bit ('env': venv)",
   "name": "python3"
  },
  "language_info": {
   "codemirror_mode": {
    "name": "ipython",
    "version": 3
   },
   "file_extension": ".py",
   "mimetype": "text/x-python",
   "name": "python",
   "nbconvert_exporter": "python",
   "pygments_lexer": "ipython3",
   "version": "3.8.10"
  },
  "orig_nbformat": 4
 },
 "nbformat": 4,
 "nbformat_minor": 2
}
