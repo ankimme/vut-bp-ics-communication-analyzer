{
 "cells": [
  {
   "cell_type": "code",
   "execution_count": 22,
   "metadata": {},
   "outputs": [],
   "source": [
    "import numpy as np\n",
    "import matplotlib.pyplot as plt\n",
    "import pandas as pd\n",
    "from matplotlib import style"
   ]
  },
  {
   "cell_type": "code",
   "execution_count": 23,
   "metadata": {},
   "outputs": [],
   "source": [
    "df1 = pd.read_csv(\"data/mega104-14-12-18-ioa.csv\", sep=\";\")\n",
    "df2 = pd.read_csv(\"data/mega104-17-12-18-ioa.csv\", sep=\";\")"
   ]
  },
  {
   "cell_type": "code",
   "execution_count": 24,
   "metadata": {},
   "outputs": [
    {
     "name": "stdout",
     "output_type": "stream",
     "text": [
      "TimeStamp: <class 'str'>\n",
      "Relative Time: <class 'numpy.float64'>\n",
      "srcIP: <class 'str'>\n",
      "dstIP: <class 'str'>\n",
      "srcPort: <class 'numpy.int64'>\n",
      "dstPort: <class 'numpy.int64'>\n",
      "ipLen: <class 'numpy.int64'>\n",
      "len: <class 'numpy.int64'>\n",
      "fmt: <class 'str'>\n",
      "uType: <class 'float'>\n",
      "asduType: <class 'numpy.float64'>\n",
      "numix: <class 'numpy.float64'>\n",
      "cot: <class 'numpy.float64'>\n",
      "oa: <class 'numpy.float64'>\n",
      "addr: <class 'numpy.float64'>\n",
      "ioa: <class 'str'>\n"
     ]
    }
   ],
   "source": [
    "for col in df1:\n",
    "    print(f\"{col}: {type(df1[col][0])}\")"
   ]
  }
 ],
 "metadata": {
  "interpreter": {
   "hash": "cfb613f3ae4fd2237ed3e9cc52c455b0f15688c9a298358058dde9e330e16df1"
  },
  "kernelspec": {
   "display_name": "Python 3.8.10 64-bit ('env': venv)",
   "name": "python3"
  },
  "language_info": {
   "codemirror_mode": {
    "name": "ipython",
    "version": 3
   },
   "file_extension": ".py",
   "mimetype": "text/x-python",
   "name": "python",
   "nbconvert_exporter": "python",
   "pygments_lexer": "ipython3",
   "version": "3.8.10"
  },
  "orig_nbformat": 4
 },
 "nbformat": 4,
 "nbformat_minor": 2
}
