{
 "cells": [
  {
   "cell_type": "code",
   "execution_count": null,
   "metadata": {},
   "outputs": [],
   "source": [
    "import numpy as np\n",
    "import matplotlib.pyplot as plt\n",
    "import pandas as pd\n",
    "import seaborn as sns\n",
    "from matplotlib import style\n",
    "\n",
    "import datetime\n",
    "from datetime import datetime"
   ]
  },
  {
   "cell_type": "markdown",
   "metadata": {},
   "source": [
    "## Definice funkci"
   ]
  },
  {
   "cell_type": "code",
   "execution_count": null,
   "metadata": {},
   "outputs": [],
   "source": [
    "# vraci dict ktery priradi kazde komunikaci v df unikatni identifikator\n",
    "# klic je tuple (srcIP, dstIP) a hodnota je id\n",
    "def find_communication_pairs(df: pd.DataFrame) -> dict:\n",
    "    d = dict()\n",
    "    i = 1\n",
    "    for (x,y) in zip(df['srcIP'], df['dstIP']):\n",
    "        if (x,y) not in d:\n",
    "            d[(x,y)] = i\n",
    "            i = i + 1\n",
    "    return d\n",
    "\n",
    "# Vraci df vyfiltrovany podle absolutniho casu (vcetne hranicnich hodnot)\n",
    "def filter_by_time_abs(df: pd.DataFrame, start: datetime, end: datetime) -> pd.DataFrame:\n",
    "    return df[(df['TimeStamp'] >= start) & (df['TimeStamp'] <= end)]\n",
    "\n",
    "# Vraci df vyfiltrovany podle relativniho casu (vcetne hranicnich hodnot)\n",
    "def filter_by_time_rel(df: pd.DataFrame, end: float) -> pd.DataFrame:\n",
    "    return filter_by_time_rel(df, 0.0, end)\n",
    "\n",
    "def filter_by_time_rel(df: pd.DataFrame, start: float, end: float) -> pd.DataFrame:\n",
    "    return df[(df['Relative Time'] >= start) & (df['Relative Time'] <= end)]"
   ]
  },
  {
   "cell_type": "markdown",
   "metadata": {},
   "source": [
    "## Nacteni a predzpracovani dataframu"
   ]
  },
  {
   "cell_type": "code",
   "execution_count": null,
   "metadata": {},
   "outputs": [],
   "source": [
    "# Nacteni df\n",
    "df = pd.read_csv(\"data/mega104-14-12-18-ioa.csv\", sep=\";\")\n",
    "# df = pd.read_csv(\"data/mega104-17-12-18-ioa.csv\", sep=\";\")\n",
    "\n",
    "\n",
    "# prida sloupec 'commId' do dataframu s id komunikace\n",
    "communication_pairs = find_communication_pairs(df)\n",
    "df['commId'] = df.apply(lambda row: communication_pairs[(row['srcIP'], row['dstIP'])], axis=1)\n",
    "\n",
    "# prevede prvni sloupec do datetime typu\n",
    "df['TimeStamp'] = pd.to_datetime(df['TimeStamp'], format=\"%H:%M:%S.%f\")"
   ]
  },
  {
   "cell_type": "markdown",
   "metadata": {},
   "source": [
    "## Filtrace"
   ]
  },
  {
   "cell_type": "code",
   "execution_count": null,
   "metadata": {},
   "outputs": [],
   "source": [
    "# ukazka filtrace dle casoveho razitka (potreba vyresit chybejici datum)\n",
    "if False:\n",
    "    start = datetime.strptime(\"17:15:49.97\", '%H:%M:%S.%f')\n",
    "    end = datetime.strptime(\"17:15:50.17\", '%H:%M:%S.%f')\n",
    "    filtered_df = filter_by_time_abs(df, start, end)\n",
    "\n",
    "# ukazka filtrace dle casoveho razitka (potreba vyresit chybejici datum)\n",
    "if True:\n",
    "    filtered_df = filter_by_time_rel(df, 0, 60)\n",
    "\n",
    "\n",
    "# df = filtered_df"
   ]
  },
  {
   "cell_type": "markdown",
   "metadata": {},
   "source": [
    "## Pocet paketu v jednotlivych komunikacich"
   ]
  },
  {
   "cell_type": "code",
   "execution_count": null,
   "metadata": {},
   "outputs": [],
   "source": [
    "# comm_ids = list(f\"{x}\\n{y}\" for x,y in communication_pairs.keys())\n",
    "comm_ids = list(str(x) for x in communication_pairs.values())\n",
    "comm_count = list(np.count_nonzero(df['commId'] == x) for x in communication_pairs.values())\n",
    "# labels = communication_pairs.values()\n",
    "plt.bar(x = comm_ids, height = comm_count)\n",
    "\n",
    "# pridani labelu s poctem nad sloupce\n",
    "offset = max(comm_count) / 25\n",
    "for i in range(len(comm_ids)):\n",
    "        plt.text(i, comm_count[i] + offset, comm_count[i], ha = 'center', color='white', bbox = dict(facecolor = 'red', alpha =.8))\n",
    "\n",
    "plt.show()\n",
    "\n",
    "# vypise idcka komunikace\n",
    "for k, v in communication_pairs.items():\n",
    "    print(f\"{v}: {k[0]} -> {k[1]}\")"
   ]
  },
  {
   "cell_type": "markdown",
   "metadata": {},
   "source": [
    "## Pocet paketu v jednotlivych casovych usecich"
   ]
  },
  {
   "cell_type": "code",
   "execution_count": null,
   "metadata": {},
   "outputs": [],
   "source": [
    "bin_size = 3600 # sirka slopce v sekundach\n",
    "x = np.arange(0, df['Relative Time'].max() + bin_size, bin_size)\n",
    "n, bins, _ = plt.hist(df['Relative Time'], x, facecolor='gray', align='mid')\n",
    "plt.show()\n",
    "\n",
    "# adhoc reseni pro zobrazeni poctu paketu v jednotlivich hodinach (relativnich!)\n",
    "for i in range(len(n)):\n",
    "    print(f\"{int(bins[i]/3600)} - {int(bins[i+1]/3600)}: {int(n[i])}\")"
   ]
  },
  {
   "cell_type": "markdown",
   "metadata": {},
   "source": [
    "## Korelace mezi 'ipLen' a 'len'"
   ]
  },
  {
   "cell_type": "code",
   "execution_count": null,
   "metadata": {},
   "outputs": [],
   "source": [
    "# vypocet korelace mezi 'ipLen' a 'len'\n",
    "col1 = df['ipLen']\n",
    "col2 = df['len']\n",
    "\n",
    "correlation = col1.corr(col2)\n",
    "print(f\"Hodnota korelace: {correlation}\")\n",
    "\n",
    "# Jednoduchy graf pro zobrazeni korelace\n",
    "sns.regplot(x=col1, y=col2, marker=\"+\")\n",
    "plt.show()"
   ]
  },
  {
   "cell_type": "code",
   "execution_count": null,
   "metadata": {},
   "outputs": [],
   "source": [
    "# matice korelace mezi vsemi slopci\n",
    "corr = df.corr()\n",
    "corr.style.background_gradient(cmap='coolwarm')"
   ]
  }
 ],
 "metadata": {
  "interpreter": {
   "hash": "cdb7085aef3a221a576ad585ce24e41c4d3ea3053184f584d3d4e28d05eb3df3"
  },
  "kernelspec": {
   "display_name": "Python 3.9.7 64-bit ('env': venv)",
   "name": "python3"
  },
  "language_info": {
   "codemirror_mode": {
    "name": "ipython",
    "version": 3
   },
   "file_extension": ".py",
   "mimetype": "text/x-python",
   "name": "python",
   "nbconvert_exporter": "python",
   "pygments_lexer": "ipython3",
   "version": "3.9.7"
  },
  "orig_nbformat": 4
 },
 "nbformat": 4,
 "nbformat_minor": 2
}
