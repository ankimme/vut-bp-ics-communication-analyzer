{
 "cells": [
  {
   "cell_type": "code",
   "execution_count": null,
   "metadata": {},
   "outputs": [],
   "source": [
    "import numpy as np\n",
    "import matplotlib.pyplot as plt\n",
    "import pandas as pd\n",
    "import seaborn as sns\n",
    "\n",
    "from datetime import datetime\n",
    "from datetime import timedelta\n",
    "\n",
    "from matplotlib import style\n",
    "from matplotlib.dates import DateFormatter, AutoDateLocator\n",
    "\n",
    "from scipy import stats"
   ]
  },
  {
   "cell_type": "markdown",
   "metadata": {},
   "source": [
    "## Definice funkci"
   ]
  },
  {
   "cell_type": "code",
   "execution_count": null,
   "metadata": {},
   "outputs": [],
   "source": [
    "#region Tvorba vlastnich atributu\n",
    "\n",
    "# vraci dvojici (dict/L3, dict/L4) ktery priradi kazde komunikaci v df unikatni identifikator\n",
    "# d_l3: klic je tuple (srcIP, dstIP) a hodnota je nove vygenerovane id komunikace\n",
    "# d_l4: klic je tuple (srcIP, srcPort, dstIP, dstPort) a hodnota je nove vygenerovane id komunikace\n",
    "def find_communication_pairs(df: pd.DataFrame) -> tuple:\n",
    "    d_l3 = dict()\n",
    "    d_l4 = dict()\n",
    "    i, j = 1, 1\n",
    "    for (srcIP, srcPort, dstIP, dstPort) in zip(df.srcIP, df.srcPort, df.dstIP, df.dstPort):\n",
    "        # L3\n",
    "        if (srcIP, dstIP) not in d_l3:\n",
    "            d_l3[(srcIP, dstIP)] = i\n",
    "            i = i + 1\n",
    "        \n",
    "        # L4\n",
    "        if (srcIP, srcPort, dstIP, dstPort) not in d_l4:\n",
    "            d_l4[(srcIP, srcPort, dstIP, dstPort)] = j\n",
    "            j = j + 1\n",
    "\n",
    "    return d_l3, d_l4\n",
    "\n",
    "# vraci list ktery priradi kazdemu zaznamu v df relativni cislo oznacujici den\n",
    "# nesmi byt mezi casy mezera vetsi nez 24h (jinak se packety priradi nespravne do jednoho dne)\n",
    "# [0..0, 1..1, 2..2, 3..3, ...]\n",
    "def find_relative_days(df: pd.DataFrame) -> list:\n",
    "    # krajni pripady\n",
    "    if len(df.index) == 0:\n",
    "        return []\n",
    "    if len(df.index) == 1:\n",
    "        return [0]\n",
    "\n",
    "    # jadro funkce\n",
    "    l = [0]\n",
    "    counter = 0\n",
    "    for i in range(1, len(df.index)):\n",
    "        if df['TimeStamp'][i].time() < df['TimeStamp'][i-1].time():\n",
    "            counter += 1\n",
    "        l.append(counter)\n",
    "    return l\n",
    "\n",
    "#endregion\n",
    "\n",
    "#region Filtry\n",
    "\n",
    "# Vraci df vyfiltrovany podle absolutniho casu (vcetne hranicnich hodnot)\n",
    "def filter_by_time_abs(df: pd.DataFrame, start: datetime, end: datetime) -> pd.DataFrame:\n",
    "    return df[(df['TimeStamp'] >= start) & (df['TimeStamp'] <= end)]\n",
    "\n",
    "# Vraci df vyfiltrovany podle relativniho casu (vcetne hranicnich hodnot)\n",
    "def filter_by_time_rel(df: pd.DataFrame, end: float) -> pd.DataFrame:\n",
    "    return filter_by_time_rel(df, 0.0, end)\n",
    "\n",
    "def filter_by_time_rel(df: pd.DataFrame, start: float, end: float) -> pd.DataFrame:\n",
    "    return df[(df['Relative Time'] >= start) & (df['Relative Time'] <= end)]\n",
    "\n",
    "#endregion"
   ]
  },
  {
   "cell_type": "markdown",
   "metadata": {},
   "source": [
    "## Nacteni a predzpracovani dataframu"
   ]
  },
  {
   "cell_type": "code",
   "execution_count": null,
   "metadata": {},
   "outputs": [],
   "source": [
    "# Nacteni df\n",
    "df = pd.read_csv(\"data/mega104-14-12-18-ioa.csv\", sep=\";\")\n",
    "# df = pd.read_csv(\"data/mega104-17-12-18-ioa.csv\", sep=\";\")\n",
    "\n",
    "\n",
    "# prida sloupce 'commL3Id' a 'commL4Id' do dataframu s id komunikaci\n",
    "cp_l3, cp_l4 = find_communication_pairs(df)\n",
    "df['commL3Id'] = df.apply(lambda row: cp_l3[(row.srcIP, row.dstIP)], axis=1)\n",
    "df['commL4Id'] = df.apply(lambda row: cp_l4[(row.srcIP, row.srcPort, row.dstIP, row.dstPort)], axis=1)\n",
    "\n",
    "# prevede prvni sloupec do datetime typu\n",
    "df['TimeStamp'] = pd.to_datetime(df['TimeStamp'], format=\"%H:%M:%S.%f\")\n",
    "\n",
    "# prida relativni cislo dne (protoze timestamp neobsahuje informaci o datu)\n",
    "df['relativeDay'] = find_relative_days(df)\n",
    "\n",
    "# pricteni relativniho poctu dnu\n",
    "# datumy nebudou davat smysl ale odlisi se jednotlive dny od sebe\n",
    "df['TimeStamp'] = df.apply(lambda row: row.TimeStamp + timedelta(days=row.relativeDay), axis=1)"
   ]
  },
  {
   "cell_type": "markdown",
   "metadata": {},
   "source": [
    "## Filtrace"
   ]
  },
  {
   "cell_type": "code",
   "execution_count": null,
   "metadata": {},
   "outputs": [],
   "source": [
    "# ukazka filtrace dle casoveho razitka (potreba vyresit chybejici datum)\n",
    "if False:\n",
    "    start = datetime.strptime(\"17:15:49.97\", '%H:%M:%S.%f')\n",
    "    end = datetime.strptime(\"17:15:50.17\", '%H:%M:%S.%f')\n",
    "    filtered_df = filter_by_time_abs(df, start, end)\n",
    "\n",
    "# ukazka filtrace dle casoveho razitka (potreba vyresit chybejici datum)\n",
    "if False:\n",
    "    filtered_df = filter_by_time_rel(df, 0, 60)\n",
    "\n",
    "\n",
    "# df = filtered_df"
   ]
  },
  {
   "cell_type": "markdown",
   "metadata": {},
   "source": [
    "## Pocet paketu v jednotlivych komunikacich internetové a transportni vrstvy (L3)"
   ]
  },
  {
   "cell_type": "code",
   "execution_count": null,
   "metadata": {},
   "outputs": [],
   "source": [
    "# comm_ids = list(f\"{x}\\n{y}\" for x,y in communication_pairs.keys())\n",
    "comm_ids = list(str(x) for x in cp_l3.values())\n",
    "comm_count = list(np.count_nonzero(df.commL3Id == x) for x in cp_l3.values())\n",
    "# labels = communication_pairs.values()\n",
    "plt.bar(x = comm_ids, height = comm_count)\n",
    "\n",
    "# pridani labelu s poctem nad sloupce\n",
    "offset = max(comm_count) / 25\n",
    "for i in range(len(comm_ids)):\n",
    "        plt.text(i, comm_count[i] + offset, comm_count[i], ha = 'center', color='white', bbox = dict(facecolor = 'red', alpha =.8))\n",
    "\n",
    "plt.show()\n",
    "\n",
    "# vypise idcka komunikace\n",
    "for k, v in cp_l3.items():\n",
    "    print(f\"{v}: {k[0]} -> {k[1]}\")"
   ]
  },
  {
   "cell_type": "markdown",
   "metadata": {},
   "source": [
    "## Pocet paketu v jednotlivych komunikacich transportní vrstvy (L4)"
   ]
  },
  {
   "cell_type": "code",
   "execution_count": null,
   "metadata": {},
   "outputs": [],
   "source": [
    "# comm_ids = list(f\"{x}\\n{y}\" for x,y in communication_pairs.keys())\n",
    "comm_ids = list(str(x) for x in cp_l4.values())\n",
    "comm_count = list(np.count_nonzero(df.commL4Id == x) for x in cp_l4.values())\n",
    "# labels = communication_pairs.values()\n",
    "plt.bar(x = comm_ids, height = comm_count)\n",
    "\n",
    "# pridani labelu s poctem nad sloupce\n",
    "offset = max(comm_count) / 25\n",
    "for i in range(len(comm_ids)):\n",
    "        plt.text(i, comm_count[i] + offset, comm_count[i], ha = 'center', color='white', bbox = dict(facecolor = 'red', alpha =.8))\n",
    "\n",
    "plt.show()\n",
    "\n",
    "# vypise idcka komunikace\n",
    "for k, v in cp_l4.items():\n",
    "    print(f\"{v}: {k[0]}:{k[1]} -> {k[2]}:{k[3]}\")\n",
    "\n",
    "# pozn: tento kod je stejny jako o bunku vyse az na pouzity dict a for loop pro vypis"
   ]
  },
  {
   "cell_type": "markdown",
   "metadata": {},
   "source": [
    "## Pocet paketu v jednotlivych casovych usecich"
   ]
  },
  {
   "cell_type": "code",
   "execution_count": null,
   "metadata": {},
   "outputs": [],
   "source": [
    "bin_size = 3600 # sirka slopce v sekundach\n",
    "x = np.arange(0, df['Relative Time'].max() + bin_size, bin_size)\n",
    "n, bins, _ = plt.hist(df['Relative Time'], x, facecolor='gray', align='mid')\n",
    "plt.show()\n",
    "\n",
    "# adhoc reseni pro zobrazeni poctu paketu v jednotlivich hodinach (relativnich!)\n",
    "for i in range(len(n)):\n",
    "    print(f\"{int(bins[i]/3600)} - {int(bins[i+1]/3600)}: {int(n[i])}\")"
   ]
  },
  {
   "cell_type": "code",
   "execution_count": null,
   "metadata": {},
   "outputs": [],
   "source": [
    "time_series = pd.Series(df.TimeStamp.index, index=df.TimeStamp)\n",
    "ts = time_series.resample('H').count()\n",
    "# viz https://pandas.pydata.org/pandas-docs/stable/user_guide/timeseries.html#dateoffset-objects\n",
    "\n",
    "x = ts.index\n",
    "y = ts.values\n",
    "\n",
    "plt.rc('font', size=12)\n",
    "fig, ax = plt.subplots(figsize=(10, 6))\n",
    "\n",
    "ax.plot(x, y, color='tab:orange')\n",
    "\n",
    "ax.set_xlabel('Time')\n",
    "ax.set_ylabel('Packet count')\n",
    "ax.set_title('Packet count in time')\n",
    "ax.grid(True)\n",
    "\n",
    "ax.xaxis.set_major_locator(AutoDateLocator())\n",
    "ax.xaxis.set_major_formatter(DateFormatter('%H:%M'))\n",
    "\n",
    "plt.xlim([min(x), max(x)])\n",
    "plt.ylim([0, max(y)])"
   ]
  },
  {
   "cell_type": "markdown",
   "metadata": {},
   "source": [
    "## Korelace mezi 'ipLen' a 'len'"
   ]
  },
  {
   "cell_type": "code",
   "execution_count": null,
   "metadata": {},
   "outputs": [],
   "source": [
    "# vypocet korelace mezi 'ipLen' a 'len'\n",
    "col1 = df['ipLen']\n",
    "col2 = df['len']\n",
    "\n",
    "correlation = col1.corr(col2)\n",
    "print(f\"Hodnota korelace: {correlation}\")\n",
    "\n",
    "# Jednoduchy graf pro zobrazeni korelace\n",
    "sns.regplot(x=col1, y=col2, marker=\"+\")\n",
    "plt.show()\n",
    "\n",
    "# vytahnout podezrele body\n",
    "# matice + kategoricka analyza\n",
    "# cetnosti hodnot (a kombinaci?)"
   ]
  },
  {
   "cell_type": "code",
   "execution_count": null,
   "metadata": {},
   "outputs": [],
   "source": [
    "# matice korelace mezi vsemi sloupci\n",
    "corr = df.corr()\n",
    "corr.style.background_gradient(cmap='coolwarm')"
   ]
  },
  {
   "cell_type": "code",
   "execution_count": null,
   "metadata": {},
   "outputs": [],
   "source": [
    "\n",
    "x = list(df['ipLen'])\n",
    "y = list(df['len'])\n",
    "\n",
    "# Pearson\n",
    "pearson_corr, _ = stats.pearsonr(x, y)\n",
    "print(f\"Pearson: {pearson_corr:.3}\")\n",
    "\n",
    "# Spearman\n",
    "spearman_corr, _ = stats.spearmanr(x, y)\n",
    "print(f\"Spearman: {spearman_corr:.3}\")\n",
    "\n",
    "d = dict()\n",
    "for a, b in zip(x, y):\n",
    "    if (a, b) in d:\n",
    "        d[(a, b)] += 1\n",
    "    else:\n",
    "        d[(a,b)] = 1\n",
    "\n",
    "# odstraneni duplicit\n",
    "x = list(set(x))\n",
    "y = list(set(y))\n",
    "\n",
    "x.sort(reverse=True)\n",
    "y.sort()\n",
    "\n",
    "result = []\n",
    "for i in x:\n",
    "    row = []\n",
    "    for j in y:\n",
    "        if (i, j) in d:\n",
    "            row.append(d[(i,j)])\n",
    "        else:\n",
    "            row.append(0)\n",
    "    result.append(row)\n",
    "\n",
    "fig, ax = plt.subplots(figsize=(10, 10))\n",
    "ax = sns.heatmap(result, robust=True, annot=True, fmt=\"d\", cmap=\"YlGnBu\", xticklabels=[str(i) for i in y], yticklabels=[str(i) for i in x])\n",
    "ax.set_xlabel(\"len\")\n",
    "ax.set_ylabel(\"ipLen\")\n"
   ]
  },
  {
   "cell_type": "markdown",
   "metadata": {},
   "source": [
    "# Poznamky\n",
    "\n",
    "## Korelace\n",
    "\n",
    "### Pearsonuv korelacni koeficient\n",
    "- Snazi se napasovat linearni funkci `y=ax+b` na data.\n",
    "- Cim lepe data kopiruji linearni funkci, tim vyssi index korelace je.\n",
    "\n",
    "### Spearmanuv korelacni koeficint\n",
    "- Kontorluje zda-li plati `y1 < y2` pro po sobe jdouci dvojice `x1 < x2`.\n",
    "- Dava vysoke hodnoty pro funkci ktere jsou monotonni."
   ]
  }
 ],
 "metadata": {
  "interpreter": {
   "hash": "cfb613f3ae4fd2237ed3e9cc52c455b0f15688c9a298358058dde9e330e16df1"
  },
  "kernelspec": {
   "display_name": "Python 3.8.10 64-bit ('env': venv)",
   "name": "python3"
  },
  "language_info": {
   "codemirror_mode": {
    "name": "ipython",
    "version": 3
   },
   "file_extension": ".py",
   "mimetype": "text/x-python",
   "name": "python",
   "nbconvert_exporter": "python",
   "pygments_lexer": "ipython3",
   "version": "3.9.7"
  },
  "orig_nbformat": 4
 },
 "nbformat": 4,
 "nbformat_minor": 2
}
